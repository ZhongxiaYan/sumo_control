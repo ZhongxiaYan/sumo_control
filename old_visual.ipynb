{
 "cells": [
  {
   "cell_type": "code",
   "execution_count": null,
   "metadata": {
    "ExecuteTime": {
     "end_time": "2020-05-01T16:04:13.721727Z",
     "start_time": "2020-05-01T16:04:13.710792Z"
    }
   },
   "outputs": [],
   "source": [
    "import numpy as np\n",
    "import scipy.optimize\n",
    "import matplotlib.pyplot as plt\n",
    "\n",
    "from pydrake.all import (Variable, SymbolicVectorSystem, DiagramBuilder,\n",
    "                         LogOutput, Simulator, ConstantVectorSource,\n",
    "                         MathematicalProgram, Solve, \n",
    "                         OsqpSolver, MosekSolver, SnoptSolver, IpoptSolver,\n",
    "                         PiecewisePolynomial, eq, le, ge)\n",
    "\n",
    "from matplotlib import rcParams\n",
    "rcParams['figure.figsize'] = (8, 5)"
   ]
  },
  {
   "cell_type": "code",
   "execution_count": null,
   "metadata": {
    "ExecuteTime": {
     "end_time": "2020-05-01T16:04:13.932873Z",
     "start_time": "2020-05-01T16:04:13.929389Z"
    }
   },
   "outputs": [],
   "source": [
    "n_veh = 8\n",
    "L = 80\n",
    "\n",
    "L_veh = 5\n",
    "a = 1\n",
    "b = 1.5\n",
    "s0 = 2\n",
    "v0 = 30\n",
    "T = 1\n",
    "delta = 4"
   ]
  },
  {
   "cell_type": "code",
   "execution_count": null,
   "metadata": {
    "ExecuteTime": {
     "end_time": "2020-05-01T16:04:14.071953Z",
     "start_time": "2020-05-01T16:04:14.066178Z"
    }
   },
   "outputs": [],
   "source": [
    "sf = L / n_veh - L_veh\n",
    "accel_fn = lambda v: a * (1 - (v / v0) ** delta - ((s0 + v * T) / sf) ** 2)\n",
    "sol = scipy.optimize.root(accel_fn, 0)\n",
    "vf = sol.x.item()\n",
    "sstarf = s0 + vf * T"
   ]
  },
  {
   "cell_type": "code",
   "execution_count": null,
   "metadata": {
    "ExecuteTime": {
     "end_time": "2020-05-01T16:04:14.457599Z",
     "start_time": "2020-05-01T16:04:14.412571Z"
    }
   },
   "outputs": [],
   "source": [
    "# get guesses for solutions\n",
    "v_guess = [np.mean(v_init)]\n",
    "for _ in range(N):\n",
    "    v_guess.append(dt * accel_fn(v_guess[-1]))\n",
    "s_guess = [sf] * (N + 1)\n",
    "\n",
    "prog = MathematicalProgram()\n",
    "v = prog.NewContinuousVariables(N + 1, n_veh, 'v') # speed\n",
    "s = prog.NewContinuousVariables(N + 1, n_veh, 's') # spacing\n",
    "flat = lambda x: x.reshape(-1)\n",
    "\n",
    "# Guess\n",
    "prog.SetInitialGuess(s, np.stack([s_guess] * n_veh, axis=1))\n",
    "prog.SetInitialGuess(v, np.stack([v_guess] * n_veh, axis=1))\n",
    "\n",
    "# initial conditions constraint\n",
    "prog.AddLinearConstraint(eq(v[0], v_init))\n",
    "prog.AddLinearConstraint(eq(s[0], s_init))\n",
    "\n",
    "# velocity constraint\n",
    "prog.AddLinearConstraint(ge(flat(v[1:]), 0))\n",
    "prog.AddLinearConstraint(le(flat(v[1:]), vf + 1)) # extra constraint to help solver\n",
    "\n",
    "# spacing constraint\n",
    "prog.AddLinearConstraint(ge(flat(s[1:]), s0))\n",
    "prog.AddLinearConstraint(le(flat(s[1:]), 10)) # extra constraint to help solver\n",
    "prog.AddLinearConstraint(eq(flat(s[1:].sum(axis=1)), L - L_veh * n_veh))\n",
    "\n",
    "# spacing update constraint\n",
    "s_n = s[:-1, 1:]       # s_i[n]\n",
    "s_np1 = s[1:, 1:]      # s_i[n + 1]\n",
    "v_n = v[:-1, 1:]       # v_i[n]\n",
    "v_np1 = v[1:, 1:]      # v_i[n + 1]\n",
    "v_n_im1 = v[:-1, :-1]  # v_{i - 1}[n]\n",
    "v_np1_im1 = v[1:, :-1] # v_{i - 1}[n + 1]\n",
    "prog.AddLinearConstraint(eq(\n",
    "    flat(s_np1 - s_n), flat(0.5 * dt * (v_n_im1 + v_np1_im1 - v_n - v_np1))))\n",
    "# handle position wrap for vehicle 1\n",
    "prog.AddLinearConstraint(eq(s[1:, 0] - s[:-1, 0], 0.5 * dt * (v[:-1, -1] + v[1:, -1] - v[:-1, 0] - v[1:, 0])))\n",
    "\n",
    "# vehicle 0's action constraint\n",
    "prog.AddLinearConstraint(ge(v[1:, 0], v[:-1, 0] - u_max * dt))\n",
    "prog.AddLinearConstraint(le(v[1:, 0], v[:-1, 0] + u_max * dt))\n",
    "\n",
    "# idm constraint\n",
    "prog.AddConstraint(eq(\n",
    "    (v_np1 - v_n - dt * a * (1 - (v_n / v0) ** delta)) * s_n ** 2,\n",
    "    -dt * a * (s0 + v_n * T + v_n * (v_n - v_n_im1) / (2 * np.sqrt(a * b))) ** 2))\n",
    "\n",
    "prog.AddCost(((v - vf) ** 2).mean() + ((s - sf) ** 2).mean())\n",
    "\n",
    "solver = SnoptSolver()\n",
    "result = solver.Solve(prog)\n",
    "\n",
    "assert result.is_success()"
   ]
  },
  {
   "cell_type": "code",
   "execution_count": null,
   "metadata": {
    "ExecuteTime": {
     "end_time": "2020-05-01T08:10:30.359363Z",
     "start_time": "2020-05-01T08:10:30.203050Z"
    }
   },
   "outputs": [],
   "source": [
    "result.GetSolution()"
   ]
  },
  {
   "cell_type": "code",
   "execution_count": null,
   "metadata": {
    "ExecuteTime": {
     "end_time": "2020-05-01T08:33:44.916940Z",
     "start_time": "2020-05-01T08:33:44.911437Z"
    }
   },
   "outputs": [],
   "source": [
    "result.GetSolution(s)\n",
    "# result.get_optimal_cost()"
   ]
  },
  {
   "cell_type": "code",
   "execution_count": null,
   "metadata": {
    "ExecuteTime": {
     "end_time": "2020-05-01T08:27:58.910443Z",
     "start_time": "2020-05-01T08:27:58.905438Z"
    }
   },
   "outputs": [],
   "source": [
    "result.GetSolution(v)"
   ]
  },
  {
   "cell_type": "markdown",
   "metadata": {},
   "source": [
    "# Old"
   ]
  },
  {
   "cell_type": "code",
   "execution_count": null,
   "metadata": {
    "ExecuteTime": {
     "end_time": "2020-04-30T23:32:08.947315Z",
     "start_time": "2020-04-30T23:32:08.868354Z"
    }
   },
   "outputs": [],
   "source": [
    "import pydrake\n",
    "import inspect\n",
    "attrs = inspect.getmembers(pydrake.all, lambda a: not inspect.isroutine(a))\n",
    "attrs"
   ]
  },
  {
   "cell_type": "code",
   "execution_count": null,
   "metadata": {
    "ExecuteTime": {
     "end_time": "2020-05-01T06:17:11.696970Z",
     "start_time": "2020-05-01T06:17:04.889241Z"
    }
   },
   "outputs": [],
   "source": [
    "N = 10\n",
    "dt = 1\n",
    "u_max = 1\n",
    "x_init = [np.clip(np.random.normal(i * L / n_veh, 1), 0, np.inf) for i in reversed(range(n_veh))]\n",
    "\n",
    "prog = MathematicalProgram()\n",
    "v = prog.NewContinuousVariables(N + 1, n_veh, 'v') # speed\n",
    "x = prog.NewContinuousVariables(N + 1, n_veh, 'x') # position\n",
    "flat = lambda x: x.reshape(-1)\n",
    "\n",
    "# initial conditions constraint\n",
    "prog.AddLinearConstraint(eq(v[0], 0))\n",
    "prog.AddLinearConstraint(eq(x[0], x_init))\n",
    "\n",
    "# velocity constraint\n",
    "prog.AddLinearConstraint(ge(flat(v[1:]), 0))\n",
    "prog.AddLinearConstraint(le(flat(v[1:]), 3)) # extra\n",
    "\n",
    "# position update constraint\n",
    "prog.AddLinearConstraint(eq(\n",
    "    flat(x[1:]),\n",
    "    flat(x[:-1] + 0.5 * (v[:-1] + v[1:]) * dt)))\n",
    "\n",
    "# vehicle position constraint\n",
    "prog.AddLinearConstraint(le(flat(x[:, 1:]), flat(x[:, :-1] - (L_veh + s0))))\n",
    "prog.AddLinearConstraint(le(x[:, 0], x[:, -1] - (L_veh + s0) + L)) # handle position wrap for vehicle 1\n",
    "\n",
    "# vehicle 1's action constraint\n",
    "prog.AddLinearConstraint(ge(v[1:, 0], v[:-1, 0] - u_max * dt))\n",
    "prog.AddLinearConstraint(le(v[1:, 0], v[:-1, 0] + u_max * dt))\n",
    "\n",
    "# idm constraint\n",
    "v_i_n = v[:-1, 1:]\n",
    "v_i_np1 = v[1:, 1:]\n",
    "v_im1_n = v[:-1, :-1]\n",
    "x_i_n = x[:-1, 1:]\n",
    "x_im1_n = x[:-1, :-1]\n",
    "# prog.AddLinearConstraint(eq(flat(v_i_np1 - v_i_n), flat(dt * a * (1 + v_i_n / v0 + \\\n",
    "#     (sstarf / sf) ** 2 + \\\n",
    "#     (2 * sstarf) / (sf ** 2) * (T + vf / (2 * np.sqrt(a * b))) * (v_i_n - vf) + \\\n",
    "#     -(2 * sstarf) / (sf ** 2) * (vf / (2 * np.sqrt(a * b))) * (v_im1_n - vf) + \\\n",
    "#     2 * (sstarf ** 2) / (sf ** 3) * (x_i_n - x_im1_n)\n",
    "# ))))\n",
    "prog.AddConstraint(eq(\n",
    "    (v_i_np1 - v_i_n - dt * (1 - (v_i_n / v0) ** delta)) * (x_im1_n - x_i_n - L_veh) ** 2,\n",
    "    -dt * a * (s0 + v_i_n * T + v_i_n * (v_i_n - v_im1_n) / (2 * np.sqrt(a * b))) ** 2))\n",
    "\n",
    "prog.AddCost((v * v).mean())\n",
    "\n",
    "print('Solving...')    \n",
    "solve = OsqpSolver()\n",
    "# solver = SnoptSolver()\n",
    "result = solver.Solve(prog)\n",
    "\n",
    "assert result.is_success()"
   ]
  },
  {
   "cell_type": "code",
   "execution_count": null,
   "metadata": {
    "ExecuteTime": {
     "end_time": "2020-04-28T23:40:03.951754Z",
     "start_time": "2020-04-28T23:40:03.948294Z"
    }
   },
   "outputs": [],
   "source": [
    "import numpy as np\n",
    "import matplotlib.pyplot as plt\n",
    "from u import *\n",
    "from time import sleep"
   ]
  },
  {
   "cell_type": "code",
   "execution_count": null,
   "metadata": {
    "ExecuteTime": {
     "end_time": "2020-04-29T06:28:44.104044Z",
     "start_time": "2020-04-29T06:27:56.655015Z"
    },
    "scrolled": false
   },
   "outputs": [],
   "source": [
    "%matplotlib notebook\n",
    "def setup_plot(vehicles):\n",
    "    circle = plt.Circle((0, 0), radius, color='black', linewidth=10, fill=False)\n",
    "    fig, ax = plt.subplots(figsize=(10, 10))\n",
    "    ax.add_artist(circle)\n",
    "    \n",
    "    def update_plt(veh):\n",
    "        angle = veh.pos / radius\n",
    "        x = radius * np.cos(angle)\n",
    "        y = radius * np.sin(angle)\n",
    "        slope = np.array([y, -x])\n",
    "        offset = 0.5 * L_veh * slope / np.linalg.norm(slope)\n",
    "        center = np.array([x, y])\n",
    "        veh.plt_line.set_data(*zip(center + offset, center - offset))\n",
    "        veh.plt_text.set_position((0.9 * x - 0.03 * radius, 0.95 * y - 0.03 * radius))\n",
    "        \n",
    "    import types\n",
    "    for veh in vehicles:\n",
    "        veh.update_plt = types.MethodType(update_plt, veh)\n",
    "        veh.plt_line, = ax.plot([0, 1], [0, 1], color='gray', linewidth=4)\n",
    "        veh.plt_text = ax.text(0, 0, f'{veh.i}', color='red', fontsize=20)\n",
    "        veh.update_plt()\n",
    "    plt.xlim((-radius - 5, radius + 5))\n",
    "    plt.ylim((-radius - 5, radius + 5))\n",
    "\n",
    "    text = plt.text(0, 0, '')\n",
    "    def draw(t):\n",
    "        texts = [\n",
    "            ('time', t),\n",
    "            ('speed', np.mean([veh.speed for veh in vehicles])),\n",
    "            ('minspeed', np.min([veh.speed for veh in vehicles])),\n",
    "            ('maxspeed', np.max([veh.speed for veh in vehicles])),\n",
    "            ('accel', np.mean([veh.accel for veh in vehicles]))\n",
    "        ]\n",
    "        text.set_text('\\n'.join('%s = %.5g' % kv for kv in texts))\n",
    "        fig.canvas.draw()\n",
    "        fig.canvas.flush_events()\n",
    "    draw(0)\n",
    "    return draw\n",
    "\n",
    "n_veh = 22\n",
    "L_veh = 5\n",
    "circ = 250\n",
    "radius = circ / 2 / np.pi\n",
    "N = 3000\n",
    "step_size = 1\n",
    "\n",
    "IDM = dict(\n",
    "    accel=2.6,\n",
    "    decel=4.5,\n",
    "    sigma=0.5,\n",
    "    tau=1.0,  # past 1 at sim_step=0.1 you no longer see waves\n",
    "    minGap=2.5,\n",
    "    maxSpeed=30,\n",
    "    speedFactor=1.0,\n",
    "    speedDev=0.1,\n",
    "    impatience=0.5,\n",
    "    carFollowModel='IDM',\n",
    ")\n",
    "delta = 4\n",
    "v_0 = 30\n",
    "s_0 = 2\n",
    "T_headway = 1\n",
    "a = 1\n",
    "b = 1.5\n",
    "\n",
    "vehicles = [Namespace(\n",
    "    i=i,\n",
    "    speed=np.clip(np.random.normal(0, 4), 0, np.inf),\n",
    "    accel=0,\n",
    "    pos=np.random.normal(circ * i / n_veh)) for i in range(n_veh)]\n",
    "redraw = setup_plot(vehicles)\n",
    "\n",
    "def update_speed(veh, vehicles):\n",
    "    next_veh = vehicles[(veh.i + 1) % n_veh]\n",
    "    \n",
    "    headway = next_veh.pos - veh.pos - L_veh + circ * (next_veh.i == 0)\n",
    "    v_diff = veh.speed - next_veh.speed\n",
    "    \n",
    "    s_star = s_0 + veh.speed * T_headway + veh.speed * v_diff / (2 * np.sqrt(a * b))\n",
    "    veh.accel = a * (1 - (veh.speed / v_0) ** delta - (s_star / headway) ** 2)\n",
    "    \n",
    "    veh.speed = max(veh.speed + step_size * veh.accel, 0)\n",
    "\n",
    "for n in range(N):\n",
    "    for veh in vehicles:\n",
    "        update_speed(veh, vehicles)\n",
    "    \n",
    "    for veh in vehicles:\n",
    "        veh.pos = veh.pos + step_size * veh.speed\n",
    "        veh.update_plt()\n",
    "    if (n + 1) % int(1 / step_size) == 0:\n",
    "        redraw(n + 1)"
   ]
  }
 ],
 "metadata": {
  "kernelspec": {
   "display_name": "Python 3",
   "language": "python",
   "name": "python3"
  },
  "language_info": {
   "codemirror_mode": {
    "name": "ipython",
    "version": 3
   },
   "file_extension": ".py",
   "mimetype": "text/x-python",
   "name": "python",
   "nbconvert_exporter": "python",
   "pygments_lexer": "ipython3",
   "version": "3.8.2"
  }
 },
 "nbformat": 4,
 "nbformat_minor": 4
}
